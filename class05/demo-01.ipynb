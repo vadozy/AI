{
 "cells": [
  {
   "cell_type": "code",
   "execution_count": null,
   "metadata": {},
   "outputs": [],
   "source": [
    "import numpy as np\n",
    "import matplotlib.pyplot as plt\n",
    "from scipy.stats import beta"
   ]
  },
  {
   "cell_type": "code",
   "execution_count": null,
   "metadata": {},
   "outputs": [],
   "source": [
    "def plot(a, b, trial, ctr):\n",
    "    x = np.linspace(0, 1, 200)\n",
    "    y = beta.pdf(x, a, b)\n",
    "    mean = a / (a + b)  # true beta mean\n",
    "    plt.plot(x, y)\n",
    "    plt.title(\"Distribution after {} trials, true rate = {:.1f}, mean  = {:.2f}\".format(trial, ctr, mean))\n",
    "    plt.show()"
   ]
  },
  {
   "cell_type": "code",
   "execution_count": null,
   "metadata": {},
   "outputs": [],
   "source": [
    "true_ctr = 0.3\n",
    "a, b = 1, 1  # beta parameters\n",
    "show = [0, 5, 10, 25, 50, 100, 200, 300, 500, 700, 1000, 1500]\n",
    "for t in range(1501):\n",
    "    coin_toss_result = (np.random.random() < true_ctr)\n",
    "    if coin_toss_result:\n",
    "        a += 1\n",
    "    else:\n",
    "        b += 1\n",
    "\n",
    "    if t in show:\n",
    "        plot(a, b, t+1, true_ctr)"
   ]
  },
  {
   "cell_type": "code",
   "execution_count": null,
   "metadata": {},
   "outputs": [],
   "source": []
  }
 ],
 "metadata": {
  "kernelspec": {
   "display_name": "Python 3",
   "language": "python",
   "name": "python3"
  },
  "language_info": {
   "codemirror_mode": {
    "name": "ipython",
    "version": 3
   },
   "file_extension": ".py",
   "mimetype": "text/x-python",
   "name": "python",
   "nbconvert_exporter": "python",
   "pygments_lexer": "ipython3",
   "version": "3.6.5"
  }
 },
 "nbformat": 4,
 "nbformat_minor": 2
}

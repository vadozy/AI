{
 "cells": [
  {
   "cell_type": "code",
   "execution_count": null,
   "metadata": {},
   "outputs": [],
   "source": [
    "import numpy as np\n",
    "from scipy import stats"
   ]
  },
  {
   "cell_type": "code",
   "execution_count": null,
   "metadata": {},
   "outputs": [],
   "source": [
    "# generate data\n",
    "N = 10\n",
    "a = np.random.randn(N) + 2  # mean 2, variance 1\n",
    "b = np.random.randn(N)  # mean 0, variance 1"
   ]
  },
  {
   "cell_type": "code",
   "execution_count": null,
   "metadata": {},
   "outputs": [],
   "source": [
    "# run our own t-test\n",
    "var_a = a.var(ddof=1)  # unbiased estimator, divide by N-1 instead of N\n",
    "var_b = b.var(ddof=1)\n",
    "\n",
    "s = np.sqrt( (var_a + var_b) / 2 )  # balanced standard deviation\n",
    "t = (a.mean() - b.mean()) / (s * np.sqrt(2/N))  # t-statistic\n",
    "df = 2 * N - 2  # degrees of freedom\n",
    "p = 1 - stats.t.cdf(np.abs(t), df=df)  # one-sided test p-value\n",
    "print('t:\\t{}, p:\\t{}'.format(t, 2*p))  # two-sided test p-value"
   ]
  },
  {
   "cell_type": "code",
   "execution_count": null,
   "metadata": {},
   "outputs": [],
   "source": [
    "# built-in t-test\n",
    "t2, p2 = stats.ttest_ind(a, b)\n",
    "print('t2:\\t{}, p2:\\t{}'.format(t2, p2))"
   ]
  },
  {
   "cell_type": "code",
   "execution_count": null,
   "metadata": {},
   "outputs": [],
   "source": []
  }
 ],
 "metadata": {
  "kernelspec": {
   "display_name": "Python 3",
   "language": "python",
   "name": "python3"
  },
  "language_info": {
   "codemirror_mode": {
    "name": "ipython",
    "version": 3
   },
   "file_extension": ".py",
   "mimetype": "text/x-python",
   "name": "python",
   "nbconvert_exporter": "python",
   "pygments_lexer": "ipython3",
   "version": "3.6.5"
  }
 },
 "nbformat": 4,
 "nbformat_minor": 2
}

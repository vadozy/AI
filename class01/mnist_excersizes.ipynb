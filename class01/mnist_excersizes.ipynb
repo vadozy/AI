{
 "cells": [
  {
   "cell_type": "code",
   "execution_count": null,
   "metadata": {},
   "outputs": [],
   "source": [
    "import numpy as np\n",
    "import matplotlib.pyplot as plt\n",
    "%matplotlib inline"
   ]
  },
  {
   "cell_type": "markdown",
   "metadata": {},
   "source": [
    "<b>Ex 3 (Mean)</b>"
   ]
  },
  {
   "cell_type": "code",
   "execution_count": null,
   "metadata": {},
   "outputs": [],
   "source": [
    "mnist = np.loadtxt(\"../large_files/train.csv\", dtype=np.int16, skiprows=1, delimiter=',')"
   ]
  },
  {
   "cell_type": "code",
   "execution_count": null,
   "metadata": {},
   "outputs": [],
   "source": [
    "print(mnist.shape) # 42000 lines, 785 integers each line\n",
    "print(type(mnist))\n",
    "print(mnist.dtype)\n",
    "# 28 * 28 = 784 = 785 - 1 (1st int on every line is the digit)"
   ]
  },
  {
   "cell_type": "code",
   "execution_count": null,
   "metadata": {},
   "outputs": [],
   "source": [
    "digits = mnist[:, 0]"
   ]
  },
  {
   "cell_type": "code",
   "execution_count": null,
   "metadata": {},
   "outputs": [],
   "source": [
    "print(digits.min())\n",
    "print(digits.max())\n",
    "print(digits.mean())\n",
    "print(digits.var())"
   ]
  },
  {
   "cell_type": "code",
   "execution_count": null,
   "metadata": {},
   "outputs": [],
   "source": [
    "counts = {}\n",
    "for i in digits:\n",
    "    counts[i] = counts.get(i, 0) + 1\n",
    "\n",
    "print(counts)"
   ]
  },
  {
   "cell_type": "code",
   "execution_count": null,
   "metadata": {},
   "outputs": [],
   "source": [
    "images = {}\n",
    "for i in range(10):\n",
    "    images[i] = mnist[mnist[:, 0] == i][:, 1:]\n",
    "    \n",
    "for i in range(10):\n",
    "    images[i] = images[i].reshape(len(images[i]), 28, 28)"
   ]
  },
  {
   "cell_type": "code",
   "execution_count": null,
   "metadata": {},
   "outputs": [],
   "source": [
    "for i in range(len(images)):\n",
    "    print(str(i) + \" \" + str(len(images[i])))"
   ]
  },
  {
   "cell_type": "code",
   "execution_count": null,
   "metadata": {},
   "outputs": [],
   "source": [
    "plt.imshow(images[3][4], cmap='Greys_r') # image of 3 (the 5th sample)\n",
    "plt.show()\n",
    "plt.imshow(images[2][5], cmap='Greys_r')  # image of 2 (the 6th sample)\n",
    "plt.show()"
   ]
  },
  {
   "cell_type": "code",
   "execution_count": null,
   "metadata": {},
   "outputs": [],
   "source": [
    "# test averaging over axis 0\n",
    "ar1 = np.array([[[1, 2], [2, 4]], [[3, 4], [2, 4]]])\n",
    "print(ar1)\n",
    "print('--- ---')\n",
    "print(ar1.mean(axis=0))"
   ]
  },
  {
   "cell_type": "code",
   "execution_count": null,
   "metadata": {},
   "outputs": [],
   "source": [
    "# Average each digit images and print the result\n",
    "for i in range(10):\n",
    "    plt.imshow(images[i].mean(axis=0), cmap='Greys_r')\n",
    "    plt.show()"
   ]
  },
  {
   "cell_type": "markdown",
   "metadata": {},
   "source": [
    "<b>Ex 4 (Rotate an image 90 degrees clockwise)</b>"
   ]
  },
  {
   "cell_type": "code",
   "execution_count": null,
   "metadata": {
    "scrolled": true
   },
   "outputs": [],
   "source": [
    "# image of average 7\n",
    "seven = images[7].mean(axis=0)\n",
    "plt.imshow(seven, cmap='Greys_r', interpolation='gaussian')\n",
    "plt.show()\n",
    "plt.imshow(seven, cmap='Greys_r', interpolation='bicubic')\n",
    "plt.show()"
   ]
  },
  {
   "cell_type": "code",
   "execution_count": null,
   "metadata": {},
   "outputs": [],
   "source": [
    "# Rotate the 28x28 px image the slow python way\n",
    "def rotate(img):\n",
    "    ret = np.empty_like(img)\n",
    "    #transpose\n",
    "    for i in range(28):\n",
    "        for j in range(28):\n",
    "            ret[i, j] = img[j, i]\n",
    "    # Vertical mirror reflection\n",
    "    ret2 = np.empty_like(img)\n",
    "    for i in range(28):\n",
    "        for j in range(28):\n",
    "            ret2[i, j] = ret[i, 28 - j - 1]\n",
    "    return ret2\n",
    "\n",
    "plt.imshow(rotate(seven), cmap='Greys_r', interpolation='bicubic')\n",
    "plt.show()\n",
    "    "
   ]
  },
  {
   "cell_type": "code",
   "execution_count": null,
   "metadata": {},
   "outputs": [],
   "source": [
    "# Rotate the 28x28 px image the numpy way\n",
    "\n",
    "plt.imshow(np.flip(seven.T, axis=1), cmap='Greys_r', interpolation='bicubic')\n",
    "plt.show()"
   ]
  },
  {
   "cell_type": "code",
   "execution_count": null,
   "metadata": {},
   "outputs": [],
   "source": [
    "%timeit rotate(seven)"
   ]
  },
  {
   "cell_type": "code",
   "execution_count": null,
   "metadata": {},
   "outputs": [],
   "source": [
    "%timeit np.flip(seven.T, axis=1)"
   ]
  },
  {
   "cell_type": "code",
   "execution_count": null,
   "metadata": {},
   "outputs": [],
   "source": []
  }
 ],
 "metadata": {
  "kernelspec": {
   "display_name": "Python 3",
   "language": "python",
   "name": "python3"
  },
  "language_info": {
   "codemirror_mode": {
    "name": "ipython",
    "version": 3
   },
   "file_extension": ".py",
   "mimetype": "text/x-python",
   "name": "python",
   "nbconvert_exporter": "python",
   "pygments_lexer": "ipython3",
   "version": "3.6.3"
  }
 },
 "nbformat": 4,
 "nbformat_minor": 2
}

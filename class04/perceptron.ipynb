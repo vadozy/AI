{
 "cells": [
  {
   "cell_type": "code",
   "execution_count": null,
   "metadata": {},
   "outputs": [],
   "source": [
    "import numpy as np \n",
    "from util import get_data as get_mnist\n",
    "from datetime import datetime\n",
    "\n",
    "import matplotlib.pyplot as plt\n",
    "%matplotlib inline"
   ]
  },
  {
   "cell_type": "code",
   "execution_count": null,
   "metadata": {},
   "outputs": [],
   "source": [
    "def get_data():\n",
    "    w = np.array([-0.5, 0.5])\n",
    "    b = 0.1\n",
    "    X = np.random.random((300, 2)) * 2 - 1\n",
    "    Y = np.sign(X.dot(w) + b)\n",
    "    print('len(Y) == {}, len(Y[Y<0]) == {}, len(Y[Y==0]) == {}, len(Y[Y>0]) == {}'.\n",
    "          format(len(Y), len(Y[Y<0]), len(Y[Y==0]), len(Y[Y>0])))\n",
    "    return X, Y\n",
    "\n",
    "class Perceptron:\n",
    "    def fit(self, X, Y, learning_rate=1.0, epochs=1000):\n",
    "        D = X.shape[1]\n",
    "        self.w = np.random.randn(D)\n",
    "        self.b = 0\n",
    "        \n",
    "        N = len(Y)\n",
    "        costs = []\n",
    "        \n",
    "        for epoch in range(epochs):\n",
    "            Yhat = self.predict(X)\n",
    "            incorrect = np.nonzero(Yhat != Y)[0]\n",
    "            if len(incorrect) == 0:\n",
    "                break\n",
    "                \n",
    "            i = np.random.choice(incorrect)\n",
    "            self.w += learning_rate * Y[i] * X[i]\n",
    "            self.b += learning_rate * Y[i]\n",
    "            \n",
    "            c = len(incorrect) / N\n",
    "            costs.append(c)\n",
    "        \n",
    "        print(\"Final w: {}, final b: {}, epochs: {}/{}\".format(self.w, self.b, (epoch + 1), epochs))\n",
    "        \n",
    "        plt.plot(costs)\n",
    "        plt.show()\n",
    "        \n",
    "    def predict(self, X):\n",
    "        return np.sign(X.dot(self.w) + self.b)\n",
    "    \n",
    "    def score(self, X, Y):\n",
    "        P = self.predict(X)\n",
    "        return np.mean(P == Y)"
   ]
  },
  {
   "cell_type": "code",
   "execution_count": null,
   "metadata": {},
   "outputs": [],
   "source": [
    "X, Y = get_data()\n",
    "plt.scatter(X[:, 0], X[:, 1], c=Y, s=100, alpha=0.5)\n",
    "plt.show()\n",
    "\n",
    "Ntrain = len(Y) // 2\n",
    "Xtrain, Ytrain = X[:Ntrain], Y[:Ntrain]\n",
    "Xtest, Ytest = X[Ntrain:], Y[Ntrain:]\n",
    "\n",
    "model = Perceptron()\n",
    "t0 = datetime.now()\n",
    "model.fit(Xtrain, Ytrain, learning_rate=0.01)\n",
    "print(\"Training time:\", (datetime.now() - t0))\n",
    "\n",
    "t0 = datetime.now()\n",
    "print(\"Train accuracy:\", model.score(Xtrain, Ytrain))\n",
    "print(\"Time to compute train accuracy:\", (datetime.now() - t0), \"Train size:\", len(Ytrain))\n",
    "\n",
    "t0 = datetime.now()\n",
    "print(\"Test accuracy:\", model.score(Xtest, Ytest))\n",
    "print(\"Time to compute test accuracy:\", (datetime.now() - t0), \"Test size:\", len(Ytest))"
   ]
  },
  {
   "cell_type": "markdown",
   "metadata": {},
   "source": [
    "## Next use perceptron on mnist and xor data"
   ]
  },
  {
   "cell_type": "code",
   "execution_count": null,
   "metadata": {},
   "outputs": [],
   "source": [
    "def get_simple_xor():\n",
    "    X = np.array([[0,0], [0,1], [1,1], [1,0]])\n",
    "    Y = np.array([0, 1, 0, 1])\n",
    "    return X, Y"
   ]
  },
  {
   "cell_type": "code",
   "execution_count": null,
   "metadata": {},
   "outputs": [],
   "source": [
    "X, Y = get_mnist()\n",
    "idx = np.logical_or(Y == 0, Y == 1)\n",
    "X = X[idx]\n",
    "Y = Y[idx]\n",
    "Y[Y == 0] = -1\n",
    "model = Perceptron()\n",
    "t0 = datetime.now()\n",
    "model.fit(X, Y, learning_rate=10e-3)\n",
    "print(\"MNIST train accuracy: {}\".format(model.score(X, Y)))\n"
   ]
  },
  {
   "cell_type": "code",
   "execution_count": null,
   "metadata": {},
   "outputs": [],
   "source": [
    "print(\"XOR results\")\n",
    "X, Y = get_simple_xor()\n",
    "model.fit(X, Y)\n",
    "print(\"XOR accuracy: {}\".format(model.score(X, Y)))"
   ]
  },
  {
   "cell_type": "code",
   "execution_count": null,
   "metadata": {},
   "outputs": [],
   "source": []
  }
 ],
 "metadata": {
  "kernelspec": {
   "display_name": "Python 3",
   "language": "python",
   "name": "python3"
  },
  "language_info": {
   "codemirror_mode": {
    "name": "ipython",
    "version": 3
   },
   "file_extension": ".py",
   "mimetype": "text/x-python",
   "name": "python",
   "nbconvert_exporter": "python",
   "pygments_lexer": "ipython3",
   "version": "3.6.5"
  }
 },
 "nbformat": 4,
 "nbformat_minor": 2
}

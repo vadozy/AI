{
 "cells": [
  {
   "cell_type": "code",
   "execution_count": null,
   "metadata": {},
   "outputs": [],
   "source": [
    "import numpy as np\n",
    "import matplotlib.pyplot as plt"
   ]
  },
  {
   "cell_type": "code",
   "execution_count": null,
   "metadata": {},
   "outputs": [],
   "source": [
    "data = np.loadtxt(\"data_poly.csv\", delimiter=',')\n",
    "print(data.shape)\n",
    "print(type(data))\n",
    "print(data.dtype)\n"
   ]
  },
  {
   "cell_type": "code",
   "execution_count": null,
   "metadata": {},
   "outputs": [],
   "source": [
    "X0 = data[:, 0]\n",
    "Y = data[:, 1]\n",
    "plt.scatter(X0, Y)\n",
    "plt.show()"
   ]
  },
  {
   "cell_type": "markdown",
   "metadata": {},
   "source": [
    "<b>y&#770; = a\\*x + b\\*x^2 + c</b>\n",
    "Follow the same method as in multivariate linear regression where\n",
    "<ul>\n",
    "    <li> x<sub>1</sub> = x </li>\n",
    "    <li> x<sub>2</sub> = x^2 </li>\n",
    "</ul>"
   ]
  },
  {
   "cell_type": "code",
   "execution_count": null,
   "metadata": {},
   "outputs": [],
   "source": [
    "X = np.empty((len(X0), 3))\n",
    "print(X.shape)"
   ]
  },
  {
   "cell_type": "code",
   "execution_count": null,
   "metadata": {},
   "outputs": [],
   "source": [
    "X[:,0] = 1\n",
    "X[:,1] = X0\n",
    "X[:,2] = X0**2\n",
    "print(\"Top 3 records from X:\\n\" + str(X[0:3]))"
   ]
  },
  {
   "cell_type": "code",
   "execution_count": null,
   "metadata": {},
   "outputs": [],
   "source": [
    "w = np.linalg.solve(X.T @ X, X.T @ Y)\n",
    "print(w)"
   ]
  },
  {
   "cell_type": "code",
   "execution_count": null,
   "metadata": {},
   "outputs": [],
   "source": [
    "Yhat = X @ w\n",
    "plt.scatter(X0, Y)\n",
    "plt.plot(sorted(X0), sorted(Yhat), color=\"red\")  # sorted hack\n",
    "plt.show()"
   ]
  },
  {
   "cell_type": "code",
   "execution_count": null,
   "metadata": {},
   "outputs": [],
   "source": [
    "mean_Y = Y.mean()\n",
    "\n",
    "SS_r = ((Yhat - Y)**2).sum()\n",
    "SS_t = ((mean_Y - Y)**2).sum()\n",
    "print(\"SS_r:\\n\" + str(SS_r))\n",
    "print(\"SS_t:\\n\" + str(SS_t))\n",
    "R_squared = 1 - SS_r / SS_t\n",
    "print(\"R_squared:\\n\" + str(R_squared))"
   ]
  },
  {
   "cell_type": "code",
   "execution_count": null,
   "metadata": {},
   "outputs": [],
   "source": []
  }
 ],
 "metadata": {
  "kernelspec": {
   "display_name": "Python 3",
   "language": "python",
   "name": "python3"
  },
  "language_info": {
   "codemirror_mode": {
    "name": "ipython",
    "version": 3
   },
   "file_extension": ".py",
   "mimetype": "text/x-python",
   "name": "python",
   "nbconvert_exporter": "python",
   "pygments_lexer": "ipython3",
   "version": "3.6.3"
  }
 },
 "nbformat": 4,
 "nbformat_minor": 2
}

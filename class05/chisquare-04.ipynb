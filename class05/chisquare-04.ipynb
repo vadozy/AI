{
 "cells": [
  {
   "cell_type": "code",
   "execution_count": 20,
   "metadata": {},
   "outputs": [],
   "source": [
    "import numpy as np\n",
    "import matplotlib.pyplot as plt\n",
    "from scipy.stats import chi2, chi2_contingency"
   ]
  },
  {
   "cell_type": "code",
   "execution_count": 21,
   "metadata": {},
   "outputs": [],
   "source": [
    "# contingency table\n",
    "#        click       no click\n",
    "#------------------------------\n",
    "# ad A |   a            b\n",
    "# ad B |   c            d\n",
    "#\n",
    "# chi^2 = (ad - bc)^2 (a + b + c + d) / [ (a + b)(c + d)(a + c)(b + d)]\n",
    "# degrees of freedom = (#cols - 1) x (#rows - 1) = (2 - 1)(2 - 1) = 1\n",
    "\n",
    "# short example\n",
    "\n",
    "# T = np.array([[36, 14], [30, 25]])\n",
    "# c2 = np.linalg.det(T)**2 * T.sum() / ( T[0].sum()*T[1].sum()*T[:,0].sum()*T[:,1].sum() )\n",
    "# p_value = 1 - chi2.cdf(x=c2, df=1)\n",
    "\n",
    "# equivalent:\n",
    "# (36-31.429)**2/31.429+(14-18.571)**2/18.571 + (30-34.571)**2/34.571 + (25-20.429)**2/20.429"
   ]
  },
  {
   "cell_type": "code",
   "execution_count": 42,
   "metadata": {},
   "outputs": [],
   "source": [
    "class DataGenerator:\n",
    "    def __init__(self, p1, p2):\n",
    "        self.p1 = p1\n",
    "        self.p2 = p2\n",
    "    \n",
    "    def next(self):\n",
    "        click1 = 1 if (np.random.random() < self.p1) else 0\n",
    "        click2 = 1 if (np.random.random() < self.p2) else 0\n",
    "        return click1, click2"
   ]
  },
  {
   "cell_type": "code",
   "execution_count": 43,
   "metadata": {},
   "outputs": [],
   "source": [
    "def get_p_value(T):\n",
    "    # same as scipy.stats.chi2_contingency(T, correction=False)\n",
    "    det = T[0,0]*T[1,1] - T[0,1]*T[1,0]\n",
    "    c2 = det / T[0].sum() * det / T[1].sum() * T.sum() / T[:,0].sum() / T[:,1].sum()\n",
    "    p = 1 - chi2.cdf(x=c2, df=1)\n",
    "    return p"
   ]
  },
  {
   "cell_type": "code",
   "execution_count": 44,
   "metadata": {},
   "outputs": [],
   "source": [
    "def run_experiment(p1, p2, N):\n",
    "    data = DataGenerator(p1, p2)\n",
    "    p_values = np.empty(N)\n",
    "    T = np.zeros((2, 2)).astype(np.float32)\n",
    "    for i in range(N):\n",
    "        c1, c2 = data.next()\n",
    "        T[0,c1] += 1\n",
    "        T[1,c2] += 1\n",
    "        # ignore the first 10 values\n",
    "        if i < 10:\n",
    "            p_values[i] = None\n",
    "        else:\n",
    "            p_values[i] = get_p_value(T)\n",
    "    plt.plot(p_values)\n",
    "    plt.plot(np.ones(N)*0.05)\n",
    "    plt.show()"
   ]
  },
  {
   "cell_type": "code",
   "execution_count": 53,
   "metadata": {},
   "outputs": [
    {
     "data": {
      "image/png": "[encoded data removed]",
      "text/plain": [
       "<matplotlib.figure.Figure at 0x1147cf240>"
      ]
     },
     "metadata": {},
     "output_type": "display_data"
    }
   ],
   "source": [
    "run_experiment(0.1, 0.11, 20000)"
   ]
  },
  {
   "cell_type": "code",
   "execution_count": null,
   "metadata": {},
   "outputs": [],
   "source": []
  }
 ],
 "metadata": {
  "kernelspec": {
   "display_name": "Python 3",
   "language": "python",
   "name": "python3"
  },
  "language_info": {
   "codemirror_mode": {
    "name": "ipython",
    "version": 3
   },
   "file_extension": ".py",
   "mimetype": "text/x-python",
   "name": "python",
   "nbconvert_exporter": "python",
   "pygments_lexer": "ipython3",
   "version": "3.6.5"
  }
 },
 "nbformat": 4,
 "nbformat_minor": 2
}

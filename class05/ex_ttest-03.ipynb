{
 "cells": [
  {
   "cell_type": "markdown",
   "metadata": {},
   "source": [
    "### Vadim's solution"
   ]
  },
  {
   "cell_type": "code",
   "execution_count": null,
   "metadata": {},
   "outputs": [],
   "source": [
    "import numpy as np\n",
    "import pandas as pd  # used for data importing\n",
    "from scipy import stats"
   ]
  },
  {
   "cell_type": "code",
   "execution_count": null,
   "metadata": {},
   "outputs": [],
   "source": [
    "df = pd.read_csv('advertisement_clicks.csv')\n",
    "df.head()"
   ]
  },
  {
   "cell_type": "code",
   "execution_count": null,
   "metadata": {},
   "outputs": [],
   "source": [
    "X_A = df[df.advertisement_id == 'A']['action']\n",
    "X_B = df[df.advertisement_id == 'B']['action']\n",
    "\n",
    "# retrieve numpy arrays from pandas dataframes\n",
    "X_A = X_A.values\n",
    "X_B = X_B.values"
   ]
  },
  {
   "cell_type": "code",
   "execution_count": null,
   "metadata": {},
   "outputs": [],
   "source": [
    "print('X_A.mean() == {}, X_B.mean() == {}'.format(X_A.mean(), X_B.mean()))"
   ]
  },
  {
   "cell_type": "code",
   "execution_count": null,
   "metadata": {},
   "outputs": [],
   "source": [
    "# built-in t-test\n",
    "t2, p2 = stats.ttest_ind(X_A, X_B)\n",
    "print('t2:\\t{}, p2:\\t{}'.format(t2, p2))"
   ]
  },
  {
   "cell_type": "markdown",
   "metadata": {},
   "source": [
    "### Author's solution"
   ]
  },
  {
   "cell_type": "code",
   "execution_count": null,
   "metadata": {},
   "outputs": [],
   "source": [
    "df = pd.read_csv('advertisement_clicks.csv')\n",
    "a = df[df['advertisement_id'] == 'A']\n",
    "b = df[df['advertisement_id'] == 'B']\n",
    "a = a['action']\n",
    "b = b['action']"
   ]
  },
  {
   "cell_type": "code",
   "execution_count": null,
   "metadata": {},
   "outputs": [],
   "source": [
    "print(\"a.mean:\", a.mean())\n",
    "print(\"b.mean:\", b.mean())"
   ]
  },
  {
   "cell_type": "code",
   "execution_count": null,
   "metadata": {},
   "outputs": [],
   "source": [
    "# built-in t-test:\n",
    "t, p = stats.ttest_ind(a, b)\n",
    "print(\"t:\\t\", t, \"p:\\t\", p)"
   ]
  },
  {
   "cell_type": "code",
   "execution_count": null,
   "metadata": {},
   "outputs": [],
   "source": [
    "# welch's t-test:\n",
    "t, p = stats.ttest_ind(a, b, equal_var=False)\n",
    "print(\"Welch's t-test:\")\n",
    "print(\"t:\\t\", t, \"p:\\t\", p)"
   ]
  },
  {
   "cell_type": "code",
   "execution_count": null,
   "metadata": {},
   "outputs": [],
   "source": [
    "# welch's t-test manual:\n",
    "N1 = len(a)\n",
    "s1_sq = a.var()\n",
    "N2 = len(b)\n",
    "s2_sq = b.var()\n",
    "t = (a.mean() - b.mean()) / np.sqrt(s1_sq / N1 + s2_sq / N2)\n",
    "\n",
    "nu1 = N1 - 1\n",
    "nu2 = N2 - 1\n",
    "df = (s1_sq / N1 + s2_sq / N2)**2 / ( (s1_sq*s1_sq) / (N1*N1 * nu1) + (s2_sq*s2_sq) / (N2*N2 * nu2) )\n",
    "p = (1 - stats.t.cdf(np.abs(t), df=df))*2\n",
    "print(\"Manual Welch t-test\")\n",
    "print(\"t:\\t\", t, \"p:\\t\", p)"
   ]
  },
  {
   "cell_type": "code",
   "execution_count": null,
   "metadata": {},
   "outputs": [],
   "source": []
  }
 ],
 "metadata": {
  "kernelspec": {
   "display_name": "Python 3",
   "language": "python",
   "name": "python3"
  },
  "language_info": {
   "codemirror_mode": {
    "name": "ipython",
    "version": 3
   },
   "file_extension": ".py",
   "mimetype": "text/x-python",
   "name": "python",
   "nbconvert_exporter": "python",
   "pygments_lexer": "ipython3",
   "version": "3.6.5"
  }
 },
 "nbformat": 4,
 "nbformat_minor": 2
}

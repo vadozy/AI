{
 "cells": [
  {
   "cell_type": "markdown",
   "metadata": {},
   "source": [
    "## K nearest neighbors"
   ]
  },
  {
   "cell_type": "code",
   "execution_count": null,
   "metadata": {},
   "outputs": [],
   "source": [
    "from util import get_data\n",
    "from datetime import datetime\n",
    "from knn import KNN"
   ]
  },
  {
   "cell_type": "code",
   "execution_count": null,
   "metadata": {},
   "outputs": [],
   "source": [
    "X, Y = get_data(2000)"
   ]
  },
  {
   "cell_type": "code",
   "execution_count": null,
   "metadata": {},
   "outputs": [],
   "source": [
    "Ntrain = 1000\n",
    "Xtrain, Ytrain = X[:Ntrain], Y[:Ntrain]\n",
    "Xtest, Ytest = X[Ntrain:], Y[Ntrain:]"
   ]
  },
  {
   "cell_type": "code",
   "execution_count": null,
   "metadata": {},
   "outputs": [],
   "source": [
    "for k in (1, 2, 3, 4, 5):\n",
    "    print(\"k == {}\".format(k))\n",
    "    knn = KNN(k)\n",
    "    t0 = datetime.now()\n",
    "    knn.fit(Xtrain, Ytrain)\n",
    "    print(\"Training time: {}\".format(datetime.now() - t0))\n",
    "    \n",
    "    t0 = datetime.now()\n",
    "    print(\"Training accuracy: {}\".format(knn.score(Xtrain, Ytrain)))\n",
    "    print(\"Time to compute train accuracy: {}, Train size: {}\".format(datetime.now() - t0, len(Ytrain)))\n",
    "    \n",
    "    t0 = datetime.now()\n",
    "    print(\"Test accuracy: {}\".format(knn.score(Xtest, Ytest)))\n",
    "    print(\"Time to compute test accuracy: {}, Test size: {}\\n\".format(datetime.now() - t0, len(Ytest)))\n",
    "    \n",
    "    "
   ]
  },
  {
   "cell_type": "code",
   "execution_count": null,
   "metadata": {},
   "outputs": [],
   "source": []
  }
 ],
 "metadata": {
  "kernelspec": {
   "display_name": "Python 3",
   "language": "python",
   "name": "python3"
  },
  "language_info": {
   "codemirror_mode": {
    "name": "ipython",
    "version": 3
   },
   "file_extension": ".py",
   "mimetype": "text/x-python",
   "name": "python",
   "nbconvert_exporter": "python",
   "pygments_lexer": "ipython3",
   "version": "3.6.5"
  }
 },
 "nbformat": 4,
 "nbformat_minor": 2
}

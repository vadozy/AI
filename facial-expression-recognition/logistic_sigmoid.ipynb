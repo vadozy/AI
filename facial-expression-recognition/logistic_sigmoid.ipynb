{
 "cells": [
  {
   "cell_type": "code",
   "execution_count": null,
   "metadata": {},
   "outputs": [],
   "source": [
    "import numpy as np\n",
    "import matplotlib.pyplot as plt\n",
    "%matplotlib inline\n",
    "\n",
    "from sklearn.utils import shuffle\n",
    "from util import getBinaryData, sigmoid, sigmoid_cost, error_rate"
   ]
  },
  {
   "cell_type": "code",
   "execution_count": null,
   "metadata": {},
   "outputs": [],
   "source": [
    "class LogisticModel():\n",
    "    \n",
    "    def __init__(self):\n",
    "        pass\n",
    "    \n",
    "    def fit(self, X, Y, learning_rate=5e-8, regL2=5, regL1=5, epochs=10000, show_fig=False):\n",
    "        \n",
    "        X, Y = shuffle(X, Y)\n",
    "        \n",
    "        #Xvalid, Yvalid = X[-1000:], Y[-1000:]\n",
    "        #X, Y = X[:-1000], Y[:-1000]\n",
    "        \n",
    "        v1 = int(np.round(len(Y) / 10))\n",
    "        Xvalid , Yvalid = X[-v1:], Y[-v1:]\n",
    "        X, Y = X[:-v1], Y[:-v1]\n",
    "        \n",
    "        N, D = X.shape\n",
    "        self.W = np.random.randn(D) / np.sqrt(D)\n",
    "        self.b = 0\n",
    "        \n",
    "        costs = []\n",
    "        best_validation_error = 1\n",
    "        for i in range(epochs):\n",
    "            pY = self.forward(X)\n",
    "            \n",
    "            # gradient descent step\n",
    "            self.W -= learning_rate * (X.T @ (pY - Y) + regL2 * self.W + regL1 * np.sign(self.W))\n",
    "            self.b -= learning_rate * ((pY - Y).sum() + regL2 * self.b + regL1 * np.sign(self.b))\n",
    "            \n",
    "            if i % 20 == 0:\n",
    "                pYvalid = self.forward(Xvalid)\n",
    "                # divide by len(Yvalid) to make it avg cost per sample\n",
    "                c = sigmoid_cost(Yvalid, pYvalid) / len(Yvalid) # avg cost per sample\n",
    "                costs.append(c)\n",
    "                e = error_rate(Yvalid, np.round(pYvalid))\n",
    "                if i % 1000 == 0:\n",
    "                    print(\"i: {}, cost: {}, error: {}\".format(i, c, e))\n",
    "                if e < best_validation_error:\n",
    "                    best_validation_error = e\n",
    "                    \n",
    "        print(\"best_validation_error: {}\".format(best_validation_error))\n",
    "        \n",
    "        if show_fig:\n",
    "            plt.plot(costs)\n",
    "            plt.show()\n",
    "            \n",
    "    def forward(self, X):\n",
    "        return sigmoid(X @ self.W + self.b)\n",
    "    \n",
    "    def predict(self, X):\n",
    "        pY = self.forward(X)\n",
    "        return np.round(pY)\n",
    "    \n",
    "    def score(self, X, Y):\n",
    "        prediction = self.predict(X)\n",
    "        return 1 - error_rate(Y, prediction)\n",
    "\n"
   ]
  },
  {
   "cell_type": "code",
   "execution_count": null,
   "metadata": {},
   "outputs": [],
   "source": [
    "#7 classes:\n",
    "#        0 - Angry (4953)\n",
    "#        1 - Disgust (547)\n",
    "#        2 - Fear (5121)\n",
    "#        3 - Happy (8989)\n",
    "#        4 - Sad (6077)\n",
    "#        5 - Surprise (4002)\n",
    "#        6 - Neutral (6198)\n",
    "        \n",
    "X_original, Y_original = getBinaryData(3, 6)"
   ]
  },
  {
   "cell_type": "code",
   "execution_count": null,
   "metadata": {},
   "outputs": [],
   "source": [
    "X0 = X_original[Y_original == 0, :]\n",
    "X1 = X_original[Y_original == 1, :]\n",
    "\n",
    "print(\"len(X0): {}, len(X1): {}, len(X0)/len(X1): {}\".format(len(X0), len(X1), len(X0)/len(X1)))"
   ]
  },
  {
   "cell_type": "code",
   "execution_count": null,
   "metadata": {},
   "outputs": [],
   "source": [
    "###   # This is the code from the lecture, it is not right, see comment below\n",
    "###   X0 = X_original[Y_original == 0, :]\n",
    "###   X1 = X_original[Y_original == 1, :]\n",
    "###   \n",
    "###   # VADIM This approach of repeating X1 is wrong. Because repeated images will\n",
    "###   # end up in both: training and validation sets\n",
    "###   X1 = np.repeat(X1, np.round(len(X0)/len(X1)), axis=0)\n",
    "###   X = np.vstack([X0, X1])\n",
    "###   Y = np.array([0] * len(X0) + [1] * len(X1))\n",
    "###   \n",
    "###   model = LogisticModel()\n",
    "###   model.fit(X, Y, epochs=12000, show_fig=True)\n",
    "###   model.score(X, Y)"
   ]
  },
  {
   "cell_type": "code",
   "execution_count": null,
   "metadata": {},
   "outputs": [],
   "source": [
    "X0 = X_original[Y_original == 0, :]\n",
    "X1 = X_original[Y_original == 1, :]\n",
    "\n",
    "#X1 = X1[:len(X0)]\n",
    "X0 = X0[:len(X1)]\n",
    "\n",
    "X = np.vstack([X0, X1])\n",
    "Y = np.array([0] * len(X0) + [1] * len(X1))\n",
    "\n",
    "model = LogisticModel()\n",
    "model.fit(X, Y, epochs=10000, show_fig=True)\n",
    "print(\"model.score(X, Y) = {}\".format(model.score(X, Y)))\n"
   ]
  },
  {
   "cell_type": "code",
   "execution_count": null,
   "metadata": {},
   "outputs": [],
   "source": [
    "X0 = X_original[Y_original == 0, :]\n",
    "X1 = X_original[Y_original == 1, :]\n",
    "\n",
    "#X1 = X1[:len(X0)]\n",
    "X0 = X0[:len(X1)]\n",
    "\n",
    "X = np.vstack([X0, X1])\n",
    "Y = np.array([0] * len(X0) + [1] * len(X1))\n",
    "\n",
    "for i in range(5):\n",
    "    print(\"Run {}\".format(i + 1))\n",
    "    model = LogisticModel()\n",
    "    model.fit(X, Y, epochs=10000, show_fig=False)\n",
    "    print(\"model.score(X, Y) = {}\".format(model.score(X, Y)))"
   ]
  },
  {
   "cell_type": "code",
   "execution_count": null,
   "metadata": {},
   "outputs": [],
   "source": []
  }
 ],
 "metadata": {
  "kernelspec": {
   "display_name": "Python 3",
   "language": "python",
   "name": "python3"
  },
  "language_info": {
   "codemirror_mode": {
    "name": "ipython",
    "version": 3
   },
   "file_extension": ".py",
   "mimetype": "text/x-python",
   "name": "python",
   "nbconvert_exporter": "python",
   "pygments_lexer": "ipython3",
   "version": "3.6.4"
  }
 },
 "nbformat": 4,
 "nbformat_minor": 2
}

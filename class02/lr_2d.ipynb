{
 "cells": [
  {
   "cell_type": "code",
   "execution_count": null,
   "metadata": {},
   "outputs": [],
   "source": [
    "import numpy as np\n",
    "import matplotlib.pyplot as plt\n",
    "from mpl_toolkits.mplot3d import Axes3D\n",
    "%matplotlib inline"
   ]
  },
  {
   "cell_type": "markdown",
   "metadata": {},
   "source": [
    "<b>Multivariate Linear Regression</b>"
   ]
  },
  {
   "cell_type": "code",
   "execution_count": null,
   "metadata": {},
   "outputs": [],
   "source": [
    "data = np.loadtxt(\"data_2d.csv\", delimiter=',')\n",
    "print(data.shape)\n",
    "print(type(data))\n",
    "print(data.dtype)"
   ]
  },
  {
   "cell_type": "code",
   "execution_count": null,
   "metadata": {},
   "outputs": [],
   "source": [
    "print(\"data:\\n\" + str(data[0:3]))\n",
    "Y = np.copy(data[:,2])\n",
    "X = data\n",
    "X[:,1:3] = X[:,0:2]\n",
    "X[:,0] = 1\n",
    "print(\"Y:\\n\" + str(Y[0:3]))\n",
    "print(\"X:\\n\" + str(X[0:3]))"
   ]
  },
  {
   "cell_type": "code",
   "execution_count": null,
   "metadata": {},
   "outputs": [],
   "source": [
    "print(Y.shape)\n",
    "print(X.shape)"
   ]
  },
  {
   "cell_type": "code",
   "execution_count": null,
   "metadata": {},
   "outputs": [],
   "source": [
    "fig = plt.figure()\n",
    "ax = fig.add_subplot(111, projection='3d')\n",
    "ax.scatter(X[:,1], X[:,2], Y)\n",
    "plt.show()"
   ]
  },
  {
   "cell_type": "markdown",
   "metadata": {},
   "source": [
    "<b>My notebook solution</b>\n",
    "X.T @ X @ w = X.T @ Y"
   ]
  },
  {
   "cell_type": "code",
   "execution_count": null,
   "metadata": {},
   "outputs": [],
   "source": [
    "w = np.linalg.inv(X.T @ X) @ X.T @ Y\n",
    "print(w)"
   ]
  },
  {
   "cell_type": "code",
   "execution_count": null,
   "metadata": {},
   "outputs": [],
   "source": [
    "#%timeit np.linalg.inv(X.T @ X) @ X.T @ Y"
   ]
  },
  {
   "cell_type": "markdown",
   "metadata": {},
   "source": [
    "<b>numpy linear equations solver</b>"
   ]
  },
  {
   "cell_type": "code",
   "execution_count": null,
   "metadata": {},
   "outputs": [],
   "source": [
    "w = np.linalg.solve(X.T @ X, X.T @ Y)\n",
    "print(w)"
   ]
  },
  {
   "cell_type": "code",
   "execution_count": null,
   "metadata": {},
   "outputs": [],
   "source": [
    "#%timeit np.linalg.solve(X.T @ X, X.T @ Y)"
   ]
  },
  {
   "cell_type": "markdown",
   "metadata": {},
   "source": [
    "<b> Evaluate R_squared (1 is a good model, 0 is a bad model) </b> <br />\n",
    "https://en.wikipedia.org/wiki/Coefficient_of_determination\n",
    "\n",
    "\n",
    "\n",
    "<ul>\n",
    "    <li> R^2 = 1 - SS_residual / SS_total </li>\n",
    "    <li> SS_redisual = Sum( (y&#770;<sub>i</sub> - y<sub>i</sub>)^2 ) </li>\n",
    "    <li> SS_total = Sum( (mean(y) - y<sub>i</sub>)^2 ) </li>\n",
    "</ul>"
   ]
  },
  {
   "cell_type": "code",
   "execution_count": null,
   "metadata": {},
   "outputs": [],
   "source": [
    "mean_Y = Y.mean()\n",
    "Yhat = X @ w\n",
    "\n",
    "SS_r = ((Yhat - Y)**2).sum()\n",
    "SS_t = ((mean_Y - Y)**2).sum()\n",
    "print(\"SS_r:\\n\" + str(SS_r))\n",
    "print(\"SS_t:\\n\" + str(SS_t))\n",
    "R_squared = 1 - SS_r / SS_t\n",
    "print(\"R_squared:\\n\" + str(R_squared))"
   ]
  },
  {
   "cell_type": "code",
   "execution_count": null,
   "metadata": {},
   "outputs": [],
   "source": [
    "fig = plt.figure()\n",
    "ax = fig.add_subplot(111, projection='3d')\n",
    "ax.scatter(X[:,1], X[:,2], Y)\n",
    "ax.scatter(X[:,1], X[:,2], Yhat, color='red')\n",
    "plt.show()"
   ]
  },
  {
   "cell_type": "markdown",
   "metadata": {},
   "source": [
    "<b>Add random noise and see how R_squared changes</b>"
   ]
  },
  {
   "cell_type": "code",
   "execution_count": null,
   "metadata": {},
   "outputs": [],
   "source": [
    "X1 = np.empty((len(X), len(X[0])+1))\n",
    "X1[:,0:3] = X\n",
    "X1[:,3] = np.random.random(len(X)) * 5 + 10\n",
    "X1.shape"
   ]
  },
  {
   "cell_type": "code",
   "execution_count": null,
   "metadata": {},
   "outputs": [],
   "source": [
    "w = np.linalg.solve(X1.T @ X1, X1.T @ Y)\n",
    "print(\"w = \\n\" + str(w))\n",
    "\n",
    "Yhat = X1 @ w\n",
    "\n",
    "SS_r = ((Yhat - Y)**2).sum()\n",
    "SS_t = ((mean_Y - Y)**2).sum()\n",
    "print(\"SS_r:\\n\" + str(SS_r))\n",
    "print(\"SS_t:\\n\" + str(SS_t))\n",
    "R_squared = 1 - SS_r / SS_t\n",
    "print(\"R_squared:\\n\" + str(R_squared))"
   ]
  },
  {
   "cell_type": "code",
   "execution_count": null,
   "metadata": {},
   "outputs": [],
   "source": []
  }
 ],
 "metadata": {
  "kernelspec": {
   "display_name": "Python 3",
   "language": "python",
   "name": "python3"
  },
  "language_info": {
   "codemirror_mode": {
    "name": "ipython",
    "version": 3
   },
   "file_extension": ".py",
   "mimetype": "text/x-python",
   "name": "python",
   "nbconvert_exporter": "python",
   "pygments_lexer": "ipython3",
   "version": "3.6.3"
  }
 },
 "nbformat": 4,
 "nbformat_minor": 2
}

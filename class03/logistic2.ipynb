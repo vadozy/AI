{
 "cells": [
  {
   "cell_type": "code",
   "execution_count": null,
   "metadata": {},
   "outputs": [],
   "source": [
    "import numpy as np"
   ]
  },
  {
   "cell_type": "code",
   "execution_count": null,
   "metadata": {},
   "outputs": [],
   "source": [
    "N = 100\n",
    "D = 2\n",
    "\n",
    "X = np.random.randn(N, D)\n",
    "X[:50, :] = X[:50, :] - 2*np.ones((50, D))  # centered at x=-2, y=-2\n",
    "X[50:, :] = X[50:, :] + 2*np.ones((50, D))  # centered at +2, +2\n",
    "T = np.array([0]*50 + [1]*50)  # targets\n",
    "\n",
    "ones = np.array([[1]*N]).T  # ones for bias term\n",
    "Xb = np.concatenate((ones, X), axis=1)\n",
    "\n",
    "# random weights\n",
    "w = np.random.randn(D + 1)\n",
    "\n",
    "# model output\n",
    "z = Xb @ w\n",
    "\n",
    "def sigmoid(z):\n",
    "    return 1 / (1 + np.exp(-z))\n",
    "\n",
    "Y = sigmoid(z)"
   ]
  },
  {
   "cell_type": "code",
   "execution_count": null,
   "metadata": {},
   "outputs": [],
   "source": [
    "# cross_entropy shoul be close to 0 for good model\n",
    "def cross_entropy(T, Y):\n",
    "    E = 0\n",
    "    for i in range(N):\n",
    "        if T[i] == 1:\n",
    "            E -= np.log(Y[i])\n",
    "        else:  # T[i] == 0\n",
    "            E -= np.log(1 - Y[i])\n",
    "    return E\n",
    "\n",
    "print(cross_entropy(T, Y))\n"
   ]
  },
  {
   "cell_type": "code",
   "execution_count": null,
   "metadata": {},
   "outputs": [],
   "source": [
    "# use the closed form solution for derived at the lecture\n",
    "w = np.array([0, 4, 4])  # y = -x\n",
    "z = Xb @ w\n",
    "Y = sigmoid(z)\n",
    "print(cross_entropy(T, Y))\n"
   ]
  },
  {
   "cell_type": "code",
   "execution_count": null,
   "metadata": {},
   "outputs": [],
   "source": [
    "import matplotlib.pyplot as plt\n",
    "%matplotlib inline\n",
    "\n",
    "plt.scatter(X[:, 0], X[:, 1], c=T, s=100, alpha=0.5)\n",
    "x_axis = np.linspace(-6, 6, 100)\n",
    "y_axis = np.linspace(6, -6, 100)\n",
    "plt.plot(x_axis, y_axis)\n",
    "plt.show()"
   ]
  },
  {
   "cell_type": "code",
   "execution_count": null,
   "metadata": {},
   "outputs": [],
   "source": []
  }
 ],
 "metadata": {
  "kernelspec": {
   "display_name": "Python 3",
   "language": "python",
   "name": "python3"
  },
  "language_info": {
   "codemirror_mode": {
    "name": "ipython",
    "version": 3
   },
   "file_extension": ".py",
   "mimetype": "text/x-python",
   "name": "python",
   "nbconvert_exporter": "python",
   "pygments_lexer": "ipython3",
   "version": "3.6.3"
  }
 },
 "nbformat": 4,
 "nbformat_minor": 2
}

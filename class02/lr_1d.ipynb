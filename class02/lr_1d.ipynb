{
 "cells": [
  {
   "cell_type": "code",
   "execution_count": null,
   "metadata": {},
   "outputs": [],
   "source": [
    "import numpy as np\n",
    "import matplotlib.pyplot as plt\n",
    "%matplotlib inline"
   ]
  },
  {
   "cell_type": "code",
   "execution_count": null,
   "metadata": {},
   "outputs": [],
   "source": [
    "data = np.loadtxt(\"data_1d.csv\", delimiter=',')\n",
    "print(data.shape)\n",
    "print(type(data))\n",
    "print(data.dtype)"
   ]
  },
  {
   "cell_type": "code",
   "execution_count": null,
   "metadata": {},
   "outputs": [],
   "source": [
    "X = data[:, 0]\n",
    "Y = data[:, 1]\n",
    "plt.scatter(X, Y)\n",
    "plt.show()"
   ]
  },
  {
   "cell_type": "markdown",
   "metadata": {},
   "source": [
    "<b>Simple Linear Regression</b>"
   ]
  },
  {
   "cell_type": "markdown",
   "metadata": {},
   "source": [
    "<ul>\n",
    "    <li> y&#770; = b + a\\*x </li>\n",
    "    <li> a = ( mean(x\\*y) - mean(x)\\*mean(y) ) / ( mean(x^2) - mean(x)^2 )</li>\n",
    "    <li> b = mean(y) - (mean(x) \\* a)</li>\n",
    "</ul>"
   ]
  },
  {
   "cell_type": "code",
   "execution_count": null,
   "metadata": {},
   "outputs": [],
   "source": [
    "mean_X = X.mean()\n",
    "mean_Y = Y.mean()\n",
    "mean_XY = (X*Y).mean()\n",
    "mean_XX = (X * X).mean()\n",
    "\n",
    "a = (mean_XY - mean_X * mean_Y) / (mean_XX - mean_X**2)\n",
    "b = mean_Y - a * mean_X\n",
    "print('a = {}'.format(a))\n",
    "print('b = {}'.format(b))"
   ]
  },
  {
   "cell_type": "code",
   "execution_count": null,
   "metadata": {},
   "outputs": [],
   "source": [
    "Yhat = a * X + b\n",
    "X = data[:, 0]\n",
    "Y = data[:, 1]\n",
    "plt.scatter(X, Y)\n",
    "plt.plot(X, Yhat, 'r-')\n",
    "plt.show()"
   ]
  },
  {
   "cell_type": "markdown",
   "metadata": {},
   "source": [
    "<b> Evaluate R_squared (1 is a good model, 0 is a bad model) </b> <br />\n",
    "https://en.wikipedia.org/wiki/Coefficient_of_determination\n",
    "\n",
    "\n",
    "\n",
    "<ul>\n",
    "    <li> R^2 = 1 - SS_residual / SS_total </li>\n",
    "    <li> SS_redisual = Sum( (y&#770;<sub>i</sub> - y<sub>i</sub>)^2 ) </li>\n",
    "    <li> SS_total = Sum( (mean(y) - y<sub>i</sub>)^2 ) </li>\n",
    "</ul>"
   ]
  },
  {
   "cell_type": "code",
   "execution_count": null,
   "metadata": {},
   "outputs": [],
   "source": [
    "SS_r = ((Yhat - Y)**2).sum()\n",
    "SS_t = ((mean_Y - Y)**2).sum()\n",
    "print(SS_r)\n",
    "print(SS_t)"
   ]
  },
  {
   "cell_type": "code",
   "execution_count": null,
   "metadata": {},
   "outputs": [],
   "source": [
    "R_squared = 1 - SS_r / SS_t\n",
    "print(R_squared)"
   ]
  },
  {
   "cell_type": "code",
   "execution_count": null,
   "metadata": {},
   "outputs": [],
   "source": []
  }
 ],
 "metadata": {
  "kernelspec": {
   "display_name": "Python 3",
   "language": "python",
   "name": "python3"
  },
  "language_info": {
   "codemirror_mode": {
    "name": "ipython",
    "version": 3
   },
   "file_extension": ".py",
   "mimetype": "text/x-python",
   "name": "python",
   "nbconvert_exporter": "python",
   "pygments_lexer": "ipython3",
   "version": "3.6.3"
  }
 },
 "nbformat": 4,
 "nbformat_minor": 2
}

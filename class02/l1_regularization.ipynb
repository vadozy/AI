{
 "cells": [
  {
   "cell_type": "code",
   "execution_count": null,
   "metadata": {},
   "outputs": [],
   "source": [
    "import numpy as np\n",
    "import matplotlib.pyplot as plt\n",
    "%matplotlib inline"
   ]
  },
  {
   "cell_type": "code",
   "execution_count": null,
   "metadata": {},
   "outputs": [],
   "source": [
    "N = 50\n",
    "D = 50  # fat matrix\n",
    "\n",
    "X = (np.random.random((N, D)) - 0.5) * 10  # uniform distr from -5 to 5\n",
    "\n",
    "true_w = np.array([1, 0.5, -0.5] + [0] * (D - 3))\n",
    "\n",
    "Y = X @ true_w + np.random.randn(N) * 0.5"
   ]
  },
  {
   "cell_type": "code",
   "execution_count": null,
   "metadata": {},
   "outputs": [],
   "source": [
    "costs = []\n",
    "w = np.random.randn(D) / np.sqrt(D)\n",
    "learning_rate = 0.001\n",
    "l1 = 10.0\n",
    "for t in range(500):\n",
    "    Yhat = X @ w\n",
    "    delta = Yhat - Y\n",
    "    w = w - learning_rate * (X.T @ delta + l1 * np.sign(w))\n",
    "    mse = delta @ delta / N\n",
    "    costs.append(mse)\n",
    "\n",
    "plt.plot(costs)"
   ]
  },
  {
   "cell_type": "code",
   "execution_count": null,
   "metadata": {},
   "outputs": [],
   "source": [
    "plt.plot(true_w, label='true w')\n",
    "plt.plot(w, label='w_map')\n",
    "plt.legend()\n",
    "plt.show()\n"
   ]
  },
  {
   "cell_type": "code",
   "execution_count": null,
   "metadata": {},
   "outputs": [],
   "source": []
  }
 ],
 "metadata": {
  "kernelspec": {
   "display_name": "Python 3",
   "language": "python",
   "name": "python3"
  },
  "language_info": {
   "codemirror_mode": {
    "name": "ipython",
    "version": 3
   },
   "file_extension": ".py",
   "mimetype": "text/x-python",
   "name": "python",
   "nbconvert_exporter": "python",
   "pygments_lexer": "ipython3",
   "version": "3.6.3"
  }
 },
 "nbformat": 4,
 "nbformat_minor": 2
}

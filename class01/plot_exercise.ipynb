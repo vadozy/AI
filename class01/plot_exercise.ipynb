{
 "cells": [
  {
   "cell_type": "code",
   "execution_count": null,
   "metadata": {},
   "outputs": [],
   "source": [
    "import numpy as np\n",
    "import matplotlib.pyplot as plt\n",
    "%matplotlib inline"
   ]
  },
  {
   "cell_type": "markdown",
   "metadata": {},
   "source": [
    "<b>Ex 6 (Plot XOR)</b>"
   ]
  },
  {
   "cell_type": "code",
   "execution_count": null,
   "metadata": {},
   "outputs": [],
   "source": [
    "data = np.random.random((1000, 2)) * 2 - 1\n",
    "red = data[ (data[:, 0] > 0) ^ (data[:, 1] > 0) ]\n",
    "blue = data[ ~((data[:, 0] > 0) ^ (data[:, 1] > 0)) ]\n",
    "plt.scatter(red[:, 0], red[:, 1], color='#990000')\n",
    "plt.scatter(blue[:, 0], blue[:, 1], color='#000099')\n",
    "plt.axis([-1.5, 1.5, -1.5, 1.5])\n",
    "plt.show()"
   ]
  },
  {
   "cell_type": "markdown",
   "metadata": {},
   "source": [
    "<b>Ex 7 (Donuts)</b>"
   ]
  },
  {
   "cell_type": "code",
   "execution_count": null,
   "metadata": {},
   "outputs": [],
   "source": [
    "# Two circles: inner blue and outer red\n",
    "N = 500\n",
    "noise_spread = 4\n",
    "inner_r = 10\n",
    "outer_r = 20\n",
    "\n",
    "blue_r = np.random.random(N) * noise_spread - noise_spread/2 + inner_r\n",
    "red_r = np.random.random(N) * noise_spread - noise_spread/2 + outer_r\n",
    "theta = np.random.random(N) * 2 * np.pi\n",
    "\n",
    "R = np.empty((N, 2))\n",
    "B = np.empty((N, 2))\n",
    "\n",
    "R[:, 0] = red_r * np.cos(theta)\n",
    "R[:, 1] = red_r * np.sin(theta)\n",
    "\n",
    "B[:, 0] = blue_r * np.cos(theta)\n",
    "B[:, 1] = blue_r * np.sin(theta)\n",
    "\n",
    "plt.scatter(R[:, 0], R[:, 1], color='#990000')\n",
    "plt.scatter(B[:, 0], B[:, 1], color='#000099')\n",
    "plt.axis([-30, 30, -30, 30])\n",
    "plt.gcf().set_size_inches(6, 6)\n",
    "plt.show()"
   ]
  }
 ],
 "metadata": {
  "kernelspec": {
   "display_name": "Python 3",
   "language": "python",
   "name": "python3"
  },
  "language_info": {
   "codemirror_mode": {
    "name": "ipython",
    "version": 3
   },
   "file_extension": ".py",
   "mimetype": "text/x-python",
   "name": "python",
   "nbconvert_exporter": "python",
   "pygments_lexer": "ipython3",
   "version": "3.6.3"
  }
 },
 "nbformat": 4,
 "nbformat_minor": 2
}

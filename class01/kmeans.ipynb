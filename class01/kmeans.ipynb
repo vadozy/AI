{
 "cells": [
  {
   "cell_type": "code",
   "execution_count": null,
   "metadata": {},
   "outputs": [],
   "source": [
    "import matplotlib\n",
    "import numpy as np\n",
    "import matplotlib.pyplot as plt\n",
    "%matplotlib inline  "
   ]
  },
  {
   "cell_type": "code",
   "execution_count": null,
   "metadata": {},
   "outputs": [],
   "source": [
    "D = 2 # so we can visualize it more easily\n",
    "s = 4 # separation so we can control how far apart the means are\n",
    "mu1 = np.array([0, 0])\n",
    "mu2 = np.array([s, s])\n",
    "mu3 = np.array([0, s])\n",
    "\n",
    "print(mu1, mu2, mu3)"
   ]
  },
  {
   "cell_type": "code",
   "execution_count": null,
   "metadata": {},
   "outputs": [],
   "source": [
    "N = 900 # number of samples\n",
    "X = np.zeros((N, D))\n",
    "X[:300, :] = np.random.randn(300, D) + mu1\n",
    "X[300:600, :] = np.random.randn(300, D) + mu2\n",
    "X[600:, :] = np.random.randn(300, D) + mu3\n",
    "X"
   ]
  },
  {
   "cell_type": "code",
   "execution_count": null,
   "metadata": {},
   "outputs": [],
   "source": [
    "plt.scatter(X[:,0], X[:,1])\n",
    "plt.show()"
   ]
  },
  {
   "cell_type": "code",
   "execution_count": null,
   "metadata": {},
   "outputs": [],
   "source": [
    "# distance between 2 vectors (squared!)\n",
    "def d(u, v):\n",
    "    diff = u - v\n",
    "    return diff.dot(diff)\n",
    "\n",
    "def plot_k_means(X, K, max_iter=20, beta=1.0, show_plots=True):\n",
    "    N, D = X.shape\n",
    "    M = np.zeros((K, D)) # means\n",
    "    R = np.zeros((N, K)) # responsibility matrix\n",
    "    \n",
    "    # initialize M to random\n",
    "    for k in range(K):\n",
    "        M[k] = X[np.random.choice(N)]\n",
    "        \n",
    "    costs = np.zeros(max_iter)\n",
    "    \n",
    "    for i in range(max_iter):\n",
    "        # step 1: determine assignments / resposibilities\n",
    "        # is this inefficient?\n",
    "        for k in range(K):\n",
    "            for n in range(N):\n",
    "                # R[n,k] = np.exp(-beta*d(M[k], X[n])) / np.sum( np.exp(-beta*d(M[j], X[n])) for j in range(K) )\n",
    "                exponents[n,k] = np.exp(-beta*d(M[k], X[n]))"
   ]
  },
  {
   "cell_type": "code",
   "execution_count": null,
   "metadata": {},
   "outputs": [],
   "source": [
    "#    K = 3 # luckily, we already know this\n",
    "#    plot_k_means(X, K)\n",
    "#\n",
    "#    K = 5 # what happens if we choose a \"bad\" K?\n",
    "#    plot_k_means(X, K, max_iter=30)\n",
    "#\n",
    "#    K = 5 # what happens if we change beta?\n",
    "#    plot_k_means(X, K, max_iter=30, beta=0.3)"
   ]
  },
  {
   "cell_type": "code",
   "execution_count": null,
   "metadata": {},
   "outputs": [],
   "source": []
  }
 ],
 "metadata": {
  "kernelspec": {
   "display_name": "Python 3",
   "language": "python",
   "name": "python3"
  },
  "language_info": {
   "codemirror_mode": {
    "name": "ipython",
    "version": 3
   },
   "file_extension": ".py",
   "mimetype": "text/x-python",
   "name": "python",
   "nbconvert_exporter": "python",
   "pygments_lexer": "ipython3",
   "version": "3.6.3"
  }
 },
 "nbformat": 4,
 "nbformat_minor": 2
}
